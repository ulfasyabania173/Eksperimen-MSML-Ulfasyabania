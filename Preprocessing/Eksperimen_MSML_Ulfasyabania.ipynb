{
  "cells": [
    {
      "cell_type": "markdown",
      "metadata": {
        "id": "kZLRMFl0JyyQ"
      },
      "source": [
        "# **1. Perkenalan Dataset**\n"
      ]
    },
    {
      "cell_type": "markdown",
      "metadata": {
        "id": "28re6fsKKdT-"
      },
      "source": [
        "**Nama Dataset**  \n",
        "Ionosphere\n",
        "\n",
        "**Sumber**  \n",
        "UCI Machine Learning Repository  \n",
        "https://archive.ics.uci.edu/ml/datasets/Ionosphere\n",
        "\n",
        "**Deskripsi Singkat**  \n",
        "Dataset ini berisi hasil pantulan gelombang radar terhadap ionosfer yang dikumpulkan di Goose Bay, Labrador. Sistem radar memanfaatkan phased array 16 antena frekuensi tinggi (total daya ~6,4 kW) dan merekam sinyal kompleks melalui fungsi autokorelasi untuk 17 pulsa. Setiap pulsa menghasilkan dua atribut (real & imaginary), sehingga total 34 fitur numerik per sampel. Target (“good” vs. “bad”) menunjukkan apakah pantulan menunjukkan struktur di ionosfer atau tidak.\n",
        "\n",
        "**Karakteristik Data**  \n",
        "- Jumlah sampel: 351  \n",
        "- Jumlah fitur: 34 (kontinu, tidak ada missing values)  \n",
        "- Atribut target:  \n",
        "  • “good” (terdapat struktur)  \n",
        "  • “bad” (tidak terdapat struktur)"
      ]
    },
    {
      "cell_type": "code",
      "execution_count": null,
      "metadata": {
        "colab": {
          "base_uri": "https://localhost:8080/"
        },
        "id": "jvYL4NNVM13T",
        "outputId": "cac8a5b0-0c39-431a-f284-9915f5bac4d5"
      },
      "outputs": [
        {
          "name": "stdout",
          "output_type": "stream",
          "text": [
            "Requirement already satisfied: ucimlrepo in c:\\users\\asus\\appdata\\local\\programs\\python\\python313\\lib\\site-packages (0.0.7)\n",
            "Requirement already satisfied: pandas>=1.0.0 in c:\\users\\asus\\appdata\\local\\programs\\python\\python313\\lib\\site-packages (from ucimlrepo) (2.2.3)\n",
            "Requirement already satisfied: certifi>=2020.12.5 in c:\\users\\asus\\appdata\\local\\programs\\python\\python313\\lib\\site-packages (from ucimlrepo) (2025.1.31)\n",
            "Requirement already satisfied: numpy>=1.26.0 in c:\\users\\asus\\appdata\\local\\programs\\python\\python313\\lib\\site-packages (from pandas>=1.0.0->ucimlrepo) (2.2.3)\n",
            "Requirement already satisfied: python-dateutil>=2.8.2 in c:\\users\\asus\\appdata\\local\\programs\\python\\python313\\lib\\site-packages (from pandas>=1.0.0->ucimlrepo) (2.9.0.post0)\n",
            "Requirement already satisfied: pytz>=2020.1 in c:\\users\\asus\\appdata\\local\\programs\\python\\python313\\lib\\site-packages (from pandas>=1.0.0->ucimlrepo) (2025.1)\n",
            "Requirement already satisfied: tzdata>=2022.7 in c:\\users\\asus\\appdata\\local\\programs\\python\\python313\\lib\\site-packages (from pandas>=1.0.0->ucimlrepo) (2025.1)\n",
            "Requirement already satisfied: six>=1.5 in c:\\users\\asus\\appdata\\local\\programs\\python\\python313\\lib\\site-packages (from python-dateutil>=2.8.2->pandas>=1.0.0->ucimlrepo) (1.17.0)\n"
          ]
        },
        {
          "name": "stderr",
          "output_type": "stream",
          "text": [
            "WARNING: Ignoring invalid distribution ~cikit-learn (C:\\Users\\Asus\\AppData\\Local\\Programs\\Python\\Python313\\Lib\\site-packages)\n",
            "WARNING: Ignoring invalid distribution ~lflow-skinny (C:\\Users\\Asus\\AppData\\Local\\Programs\\Python\\Python313\\Lib\\site-packages)\n",
            "WARNING: Ignoring invalid distribution ~cikit-learn (C:\\Users\\Asus\\AppData\\Local\\Programs\\Python\\Python313\\Lib\\site-packages)\n",
            "WARNING: Ignoring invalid distribution ~lflow-skinny (C:\\Users\\Asus\\AppData\\Local\\Programs\\Python\\Python313\\Lib\\site-packages)\n",
            "WARNING: Ignoring invalid distribution ~cikit-learn (C:\\Users\\Asus\\AppData\\Local\\Programs\\Python\\Python313\\Lib\\site-packages)\n",
            "WARNING: Ignoring invalid distribution ~lflow-skinny (C:\\Users\\Asus\\AppData\\Local\\Programs\\Python\\Python313\\Lib\\site-packages)\n"
          ]
        }
      ],
      "source": [
        "%pip install ucimlrepo"
      ]
    },
    {
      "cell_type": "markdown",
      "metadata": {
        "id": "fKADPWcFKlj3"
      },
      "source": [
        "# **2. Import Library**"
      ]
    },
    {
      "cell_type": "code",
      "execution_count": null,
      "metadata": {
        "id": "FbxyFa-OeyzJ"
      },
      "outputs": [],
      "source": [
        "# 1. Fetch dan manipulasi data\n",
        "from ucimlrepo import fetch_ucirepo\n",
        "import pandas as pd\n",
        "\n",
        "# 2. Visualisasi\n",
        "import matplotlib.pyplot as plt\n",
        "import seaborn as sns\n",
        "\n",
        "# 3. Preprocessing\n",
        "from sklearn.preprocessing import StandardScaler\n",
        "\n",
        "# 4. Split data\n",
        "from sklearn.model_selection import train_test_split"
      ]
    },
    {
      "cell_type": "markdown",
      "metadata": {
        "id": "f3YIEnAFKrKL"
      },
      "source": [
        "# **3. Memuat Dataset**"
      ]
    },
    {
      "cell_type": "markdown",
      "metadata": {
        "id": "wKu935IGX4kI"
      },
      "source": [
        "Pada tahap ini, saya memuat dataset **Ionosphere** dari UCI Machine Learning Repository ke dalam notebook. Langkah ini memastikan data telah diunduh dengan benar, kolom sudah sesuai dokumentasi, dan struktur data siap untuk analisis lebih lanjut.\n"
      ]
    },
    {
      "cell_type": "code",
      "execution_count": null,
      "metadata": {
        "colab": {
          "base_uri": "https://localhost:8080/"
        },
        "id": "-e_JaT3SNAUr",
        "outputId": "09c874b1-c579-421c-8942-393ff0ac9ff8"
      },
      "outputs": [
        {
          "name": "stdout",
          "output_type": "stream",
          "text": [
            "{'uci_id': 52, 'name': 'Ionosphere', 'repository_url': 'https://archive.ics.uci.edu/dataset/52/ionosphere', 'data_url': 'https://archive.ics.uci.edu/static/public/52/data.csv', 'abstract': 'Classification of radar returns from the ionosphere', 'area': 'Physics and Chemistry', 'tasks': ['Classification'], 'characteristics': ['Multivariate'], 'num_instances': 351, 'num_features': 34, 'feature_types': ['Integer', 'Real'], 'demographics': [], 'target_col': ['Class'], 'index_col': None, 'has_missing_values': 'no', 'missing_values_symbol': None, 'year_of_dataset_creation': 1989, 'last_updated': 'Sun Jan 01 1989', 'dataset_doi': '10.24432/C5W01B', 'creators': ['V. Sigillito', 'S. Wing', 'L. Hutton', 'K. Baker'], 'intro_paper': None, 'additional_info': {'summary': 'This radar data was collected by a system in Goose Bay, Labrador.  This system consists of a phased array of 16 high-frequency antennas with a total transmitted power on the order of 6.4 kilowatts.  See the paper for more details.  The targets were free electrons in the ionosphere. \"Good\" radar returns are those showing evidence of some type of structure in the ionosphere.  \"Bad\" returns are those that do not; their signals pass through the ionosphere.  \\r\\n\\r\\nReceived signals were processed using an autocorrelation function whose arguments are the time of a pulse and the pulse number.  There were 17 pulse numbers for the Goose Bay system.  Instances in this databse are described by 2 attributes per pulse number, corresponding to the complex values returned by the function resulting from the complex electromagnetic signal.', 'purpose': None, 'funded_by': None, 'instances_represent': None, 'recommended_data_splits': None, 'sensitive_data': None, 'preprocessing_description': None, 'variable_info': '-- All 34 are continuous\\r\\n-- The 35th attribute is either \"good\" or \"bad\" according to the definition summarized above.  This is a binary classification task.\\r\\n', 'citation': None}}\n",
            "           name     role         type demographic description units  \\\n",
            "0    Attribute1  Feature   Continuous        None        None  None   \n",
            "1    Attribute2  Feature   Continuous        None        None  None   \n",
            "2    Attribute3  Feature   Continuous        None        None  None   \n",
            "3    Attribute4  Feature   Continuous        None        None  None   \n",
            "4    Attribute5  Feature   Continuous        None        None  None   \n",
            "5    Attribute6  Feature   Continuous        None        None  None   \n",
            "6    Attribute7  Feature   Continuous        None        None  None   \n",
            "7    Attribute8  Feature   Continuous        None        None  None   \n",
            "8    Attribute9  Feature   Continuous        None        None  None   \n",
            "9   Attribute10  Feature   Continuous        None        None  None   \n",
            "10  Attribute11  Feature   Continuous        None        None  None   \n",
            "11  Attribute12  Feature   Continuous        None        None  None   \n",
            "12  Attribute13  Feature   Continuous        None        None  None   \n",
            "13  Attribute14  Feature   Continuous        None        None  None   \n",
            "14  Attribute15  Feature   Continuous        None        None  None   \n",
            "15  Attribute16  Feature   Continuous        None        None  None   \n",
            "16  Attribute17  Feature   Continuous        None        None  None   \n",
            "17  Attribute18  Feature   Continuous        None        None  None   \n",
            "18  Attribute19  Feature   Continuous        None        None  None   \n",
            "19  Attribute20  Feature   Continuous        None        None  None   \n",
            "20  Attribute21  Feature   Continuous        None        None  None   \n",
            "21  Attribute22  Feature   Continuous        None        None  None   \n",
            "22  Attribute23  Feature   Continuous        None        None  None   \n",
            "23  Attribute24  Feature   Continuous        None        None  None   \n",
            "24  Attribute25  Feature   Continuous        None        None  None   \n",
            "25  Attribute26  Feature   Continuous        None        None  None   \n",
            "26  Attribute27  Feature   Continuous        None        None  None   \n",
            "27  Attribute28  Feature   Continuous        None        None  None   \n",
            "28  Attribute29  Feature   Continuous        None        None  None   \n",
            "29  Attribute30  Feature   Continuous        None        None  None   \n",
            "30  Attribute31  Feature   Continuous        None        None  None   \n",
            "31  Attribute32  Feature   Continuous        None        None  None   \n",
            "32  Attribute33  Feature   Continuous        None        None  None   \n",
            "33  Attribute34  Feature   Continuous        None        None  None   \n",
            "34        Class   Target  Categorical        None        None  None   \n",
            "\n",
            "   missing_values  \n",
            "0              no  \n",
            "1              no  \n",
            "2              no  \n",
            "3              no  \n",
            "4              no  \n",
            "5              no  \n",
            "6              no  \n",
            "7              no  \n",
            "8              no  \n",
            "9              no  \n",
            "10             no  \n",
            "11             no  \n",
            "12             no  \n",
            "13             no  \n",
            "14             no  \n",
            "15             no  \n",
            "16             no  \n",
            "17             no  \n",
            "18             no  \n",
            "19             no  \n",
            "20             no  \n",
            "21             no  \n",
            "22             no  \n",
            "23             no  \n",
            "24             no  \n",
            "25             no  \n",
            "26             no  \n",
            "27             no  \n",
            "28             no  \n",
            "29             no  \n",
            "30             no  \n",
            "31             no  \n",
            "32             no  \n",
            "33             no  \n",
            "34             no  \n"
          ]
        }
      ],
      "source": [
        "from ucimlrepo import fetch_ucirepo\n",
        "\n",
        "# fetch dataset\n",
        "ionosphere = fetch_ucirepo(id=52)\n",
        "\n",
        "# data (as pandas dataframes)\n",
        "X = ionosphere.data.features\n",
        "y = ionosphere.data.targets\n",
        "\n",
        "# metadata\n",
        "print(ionosphere.metadata)\n",
        "\n",
        "# variable information\n",
        "print(ionosphere.variables)"
      ]
    },
    {
      "cell_type": "markdown",
      "metadata": {
        "id": "_FAQsdv6g6cZ"
      },
      "source": [
        "## **Insights:**\n",
        "\n",
        "Berdasarkan output `ionosphere.metadata`, kita mendapatkan gambaran umum tentang dataset:\n",
        "\n",
        "- **ID & Nama**  \n",
        "  • `uci_id`: 52  \n",
        "  • `name`: “Ionosphere”  \n",
        "- **Sumber & URL**  \n",
        "  • Repository: UCI ML Repository  \n",
        "  • Data CSV mentah di `data_url`: ~100 KB  \n",
        "- **Domain & Tugas**  \n",
        "  • Area: Physics and Chemistry  \n",
        "  • Tugas: Binary **Classification** (deteksi struktur di ionosfer)  \n",
        "- **Karakteristik**  \n",
        "  • Multivariate  \n",
        "  • 351 instances, 34 fitur  \n",
        "  • Tipe fitur: Integer & Real  \n",
        "  • **Tanpa missing values** (“no”)  \n",
        "- **Target**  \n",
        "  • Kolom `Class`: “g” (good) vs “b” (bad)  \n",
        "- **Sejarah & Kredibilitas**  \n",
        "  • Dibuat 1989 (V. Sigillito dkk.)  \n",
        "  • Ringkas dan terbukti bertahun-tahun sebagai benchmark tugas radar/ionosfer  \n",
        "\n",
        "---\n",
        "\n",
        "## Insights dari Variable Information\n",
        "\n",
        "Tabel `ionosphere.variables` menegaskan:\n",
        "\n",
        "| Nama Kolom   | Peran    | Tipe       | Missing? |\n",
        "|--------------|----------|------------|----------|\n",
        "| Attribute1–34| Fitur    | Continuous | no       |\n",
        "| Class        | Target   | Categorical| no       |\n",
        "\n",
        "- **Semua 34 fitur** berskala kontinu – tidak ada encoding string yang rumit.  \n",
        "- **Target** berupa kategori “good”/“bad” → perlu mapping ke 1/0.  \n",
        "- Tidak ada kolom `index`; setiap baris adalah sampel independen.  \n",
        "\n",
        "---"
      ]
    },
    {
      "cell_type": "markdown",
      "metadata": {
        "id": "DYmdRh-bc9C1"
      },
      "source": [
        "## **Ekspor Dataset ke CSV**"
      ]
    },
    {
      "cell_type": "code",
      "execution_count": null,
      "metadata": {
        "colab": {
          "base_uri": "https://localhost:8080/"
        },
        "id": "ZFLsUnIqZ5IT",
        "outputId": "85a91a9e-0953-43be-86c1-c81a0e02c7c0"
      },
      "outputs": [
        {
          "name": "stdout",
          "output_type": "stream",
          "text": [
            "✅ Dataset disimpan di: ionosphere.csv\n"
          ]
        }
      ],
      "source": [
        "from ucimlrepo import fetch_ucirepo\n",
        "import pandas as pd\n",
        "\n",
        "# 1. Fetch dataset dari UCI\n",
        "ionosphere = fetch_ucirepo(id=52)\n",
        "X = ionosphere.data.features\n",
        "y = ionosphere.data.targets\n",
        "\n",
        "# 2. Gabungkan fitur dan target dalam satu DataFrame\n",
        "# Access the 'Class' column from the y DataFrame\n",
        "df = pd.concat([\n",
        "    X.reset_index(drop=True),\n",
        "    y['Class'].reset_index(drop=True) # Access the 'Class' column\n",
        "], axis=1)\n",
        "\n",
        "# 3. Simpan ke CSV tanpa index\n",
        "csv_path = \"ionosphere.csv\"\n",
        "df.to_csv(csv_path, index=False)\n",
        "print(f\"✅ Dataset disimpan di: {csv_path}\")"
      ]
    },
    {
      "cell_type": "markdown",
      "metadata": {
        "id": "bgZkbJLpK9UR"
      },
      "source": [
        "# **4. Exploratory Data Analysis (EDA)**"
      ]
    },
    {
      "cell_type": "markdown",
      "metadata": {
        "id": "UUkIonsOYxtS"
      },
      "source": [
        "Pada tahap ini, saya melakukan eksplorasi awal untuk memahami struktur data, distribusi setiap fitur, serta keseimbangan kelas target."
      ]
    },
    {
      "cell_type": "code",
      "execution_count": null,
      "metadata": {
        "colab": {
          "base_uri": "https://localhost:8080/",
          "height": 1000
        },
        "id": "iYcXV3vfbZs3",
        "outputId": "3d66a594-33be-4ae3-c58f-ebf889f7665c"
      },
      "outputs": [
        {
          "name": "stdout",
          "output_type": "stream",
          "text": [
            "Info DataFrame:\n",
            "<class 'pandas.core.frame.DataFrame'>\n",
            "RangeIndex: 351 entries, 0 to 350\n",
            "Data columns (total 35 columns):\n",
            " #   Column       Non-Null Count  Dtype  \n",
            "---  ------       --------------  -----  \n",
            " 0   Attribute1   351 non-null    int64  \n",
            " 1   Attribute2   351 non-null    int64  \n",
            " 2   Attribute3   351 non-null    float64\n",
            " 3   Attribute4   351 non-null    float64\n",
            " 4   Attribute5   351 non-null    float64\n",
            " 5   Attribute6   351 non-null    float64\n",
            " 6   Attribute7   351 non-null    float64\n",
            " 7   Attribute8   351 non-null    float64\n",
            " 8   Attribute9   351 non-null    float64\n",
            " 9   Attribute10  351 non-null    float64\n",
            " 10  Attribute11  351 non-null    float64\n",
            " 11  Attribute12  351 non-null    float64\n",
            " 12  Attribute13  351 non-null    float64\n",
            " 13  Attribute14  351 non-null    float64\n",
            " 14  Attribute15  351 non-null    float64\n",
            " 15  Attribute16  351 non-null    float64\n",
            " 16  Attribute17  351 non-null    float64\n",
            " 17  Attribute18  351 non-null    float64\n",
            " 18  Attribute19  351 non-null    float64\n",
            " 19  Attribute20  351 non-null    float64\n",
            " 20  Attribute21  351 non-null    float64\n",
            " 21  Attribute22  351 non-null    float64\n",
            " 22  Attribute23  351 non-null    float64\n",
            " 23  Attribute24  351 non-null    float64\n",
            " 24  Attribute25  351 non-null    float64\n",
            " 25  Attribute26  351 non-null    float64\n",
            " 26  Attribute27  351 non-null    float64\n",
            " 27  Attribute28  351 non-null    float64\n",
            " 28  Attribute29  351 non-null    float64\n",
            " 29  Attribute30  351 non-null    float64\n",
            " 30  Attribute31  351 non-null    float64\n",
            " 31  Attribute32  351 non-null    float64\n",
            " 32  Attribute33  351 non-null    float64\n",
            " 33  Attribute34  351 non-null    float64\n",
            " 34  Class        351 non-null    object \n",
            "dtypes: float64(32), int64(2), object(1)\n",
            "memory usage: 96.1+ KB\n",
            "\n",
            "Statistik Deskriptif:\n"
          ]
        },
        {
          "data": {
            "application/vnd.microsoft.datawrangler.viewer.v0+json": {
              "columns": [
                {
                  "name": "index",
                  "rawType": "object",
                  "type": "string"
                },
                {
                  "name": "count",
                  "rawType": "float64",
                  "type": "float"
                },
                {
                  "name": "mean",
                  "rawType": "float64",
                  "type": "float"
                },
                {
                  "name": "std",
                  "rawType": "float64",
                  "type": "float"
                },
                {
                  "name": "min",
                  "rawType": "float64",
                  "type": "float"
                },
                {
                  "name": "25%",
                  "rawType": "float64",
                  "type": "float"
                },
                {
                  "name": "50%",
                  "rawType": "float64",
                  "type": "float"
                },
                {
                  "name": "75%",
                  "rawType": "float64",
                  "type": "float"
                },
                {
                  "name": "max",
                  "rawType": "float64",
                  "type": "float"
                }
              ],
              "ref": "1e4ac52e-e99d-494d-9ce9-1c23842d90fc",
              "rows": [
                [
                  "Attribute1",
                  "351.0",
                  "0.8917378917378918",
                  "0.3111547152418822",
                  "0.0",
                  "1.0",
                  "1.0",
                  "1.0",
                  "1.0"
                ],
                [
                  "Attribute2",
                  "351.0",
                  "0.0",
                  "0.0",
                  "0.0",
                  "0.0",
                  "0.0",
                  "0.0",
                  "0.0"
                ],
                [
                  "Attribute3",
                  "351.0",
                  "0.6413418518518519",
                  "0.49770820252001446",
                  "-1.0",
                  "0.47213499999999997",
                  "0.87111",
                  "1.0",
                  "1.0"
                ],
                [
                  "Attribute4",
                  "351.0",
                  "0.04437188034188035",
                  "0.44143477986207974",
                  "-1.0",
                  "-0.064735",
                  "0.01631",
                  "0.194185",
                  "1.0"
                ],
                [
                  "Attribute5",
                  "351.0",
                  "0.6010678917378918",
                  "0.5198615134119577",
                  "-1.0",
                  "0.41266",
                  "0.8092",
                  "1.0",
                  "1.0"
                ],
                [
                  "Attribute6",
                  "351.0",
                  "0.11588900284900285",
                  "0.46081012899504653",
                  "-1.0",
                  "-0.024794999999999998",
                  "0.0228",
                  "0.33465500000000004",
                  "1.0"
                ],
                [
                  "Attribute7",
                  "351.0",
                  "0.5500950712250713",
                  "0.4926537711409018",
                  "-1.0",
                  "0.21131",
                  "0.72873",
                  "0.96924",
                  "1.0"
                ],
                [
                  "Attribute8",
                  "351.0",
                  "0.11936037037037038",
                  "0.5207498957587218",
                  "-1.0",
                  "-0.05484",
                  "0.01471",
                  "0.445675",
                  "1.0"
                ],
                [
                  "Attribute9",
                  "351.0",
                  "0.5118480911680912",
                  "0.5070655268594022",
                  "-1.0",
                  "0.08710999999999999",
                  "0.68421",
                  "0.9532400000000001",
                  "1.0"
                ],
                [
                  "Attribute10",
                  "351.0",
                  "0.18134538461538463",
                  "0.4838508882659825",
                  "-1.0",
                  "-0.048075",
                  "0.01829",
                  "0.534195",
                  "1.0"
                ],
                [
                  "Attribute11",
                  "351.0",
                  "0.47618264957264955",
                  "0.5634963619140663",
                  "-1.0",
                  "0.02112",
                  "0.66798",
                  "0.957895",
                  "1.0"
                ],
                [
                  "Attribute12",
                  "351.0",
                  "0.15504045584045584",
                  "0.49481744915856757",
                  "-1.0",
                  "-0.06526499999999999",
                  "0.02825",
                  "0.482375",
                  "1.0"
                ],
                [
                  "Attribute13",
                  "351.0",
                  "0.40080119658119656",
                  "0.6221861240425854",
                  "-1.0",
                  "0.0",
                  "0.64407",
                  "0.955505",
                  "1.0"
                ],
                [
                  "Attribute14",
                  "351.0",
                  "0.09341367521367522",
                  "0.49487264082837945",
                  "-1.0",
                  "-0.073725",
                  "0.03027",
                  "0.37485999999999997",
                  "1.0"
                ],
                [
                  "Attribute15",
                  "351.0",
                  "0.3441591452991453",
                  "0.6528278322221249",
                  "-1.0",
                  "0.0",
                  "0.60194",
                  "0.91933",
                  "1.0"
                ],
                [
                  "Attribute16",
                  "351.0",
                  "0.07113233618233618",
                  "0.45837067230505035",
                  "-1.0",
                  "-0.081705",
                  "0.0",
                  "0.308975",
                  "1.0"
                ],
                [
                  "Attribute17",
                  "351.0",
                  "0.38194900284900285",
                  "0.6180203542051508",
                  "-1.0",
                  "0.0",
                  "0.59091",
                  "0.935705",
                  "1.0"
                ],
                [
                  "Attribute18",
                  "351.0",
                  "-0.0036168091168091113",
                  "0.49676198325333754",
                  "-1.0",
                  "-0.22569",
                  "0.0",
                  "0.195285",
                  "1.0"
                ],
                [
                  "Attribute19",
                  "351.0",
                  "0.3593896011396011",
                  "0.6262668097369732",
                  "-1.0",
                  "0.0",
                  "0.57619",
                  "0.899265",
                  "1.0"
                ],
                [
                  "Attribute20",
                  "351.0",
                  "-0.024024700854700848",
                  "0.5190760918041747",
                  "-1.0",
                  "-0.23467",
                  "0.0",
                  "0.13437",
                  "1.0"
                ],
                [
                  "Attribute21",
                  "351.0",
                  "0.33669547008547007",
                  "0.6098283226658313",
                  "-1.0",
                  "0.0",
                  "0.49909",
                  "0.894865",
                  "1.0"
                ],
                [
                  "Attribute22",
                  "351.0",
                  "0.008295897435897431",
                  "0.5181658868225015",
                  "-1.0",
                  "-0.24387",
                  "0.0",
                  "0.18875999999999998",
                  "1.0"
                ],
                [
                  "Attribute23",
                  "351.0",
                  "0.36247549857549854",
                  "0.6037674896436015",
                  "-1.0",
                  "0.0",
                  "0.53176",
                  "0.911235",
                  "1.0"
                ],
                [
                  "Attribute24",
                  "351.0",
                  "-0.05740575498575498",
                  "0.5274563187021135",
                  "-1.0",
                  "-0.366885",
                  "0.0",
                  "0.16463",
                  "1.0"
                ],
                [
                  "Attribute25",
                  "351.0",
                  "0.39613467236467237",
                  "0.5784508875207429",
                  "-1.0",
                  "0.0",
                  "0.55389",
                  "0.90524",
                  "1.0"
                ],
                [
                  "Attribute26",
                  "351.0",
                  "-0.0711868660968661",
                  "0.5084945003589454",
                  "-1.0",
                  "-0.33239",
                  "-0.01505",
                  "0.156765",
                  "1.0"
                ],
                [
                  "Attribute27",
                  "351.0",
                  "0.5416407977207977",
                  "0.5162046653759856",
                  "-1.0",
                  "0.286435",
                  "0.70824",
                  "0.999945",
                  "1.0"
                ],
                [
                  "Attribute28",
                  "351.0",
                  "-0.06953760683760683",
                  "0.5500252427755079",
                  "-1.0",
                  "-0.44316500000000003",
                  "-0.01769",
                  "0.15353499999999998",
                  "1.0"
                ],
                [
                  "Attribute29",
                  "351.0",
                  "0.37844518518518516",
                  "0.5758855586499878",
                  "-1.0",
                  "0.0",
                  "0.49664",
                  "0.883465",
                  "1.0"
                ],
                [
                  "Attribute30",
                  "351.0",
                  "-0.027907094017094014",
                  "0.507974098829109",
                  "-1.0",
                  "-0.236885",
                  "0.0",
                  "0.15407500000000002",
                  "1.0"
                ],
                [
                  "Attribute31",
                  "351.0",
                  "0.3525137321937322",
                  "0.5714833719411037",
                  "-1.0",
                  "0.0",
                  "0.44277",
                  "0.85762",
                  "1.0"
                ],
                [
                  "Attribute32",
                  "351.0",
                  "-0.003793760683760677",
                  "0.5135743607386398",
                  "-1.0",
                  "-0.242595",
                  "0.0",
                  "0.20012000000000002",
                  "1.0"
                ],
                [
                  "Attribute33",
                  "351.0",
                  "0.3493636467236467",
                  "0.5226633728224047",
                  "-1.0",
                  "0.0",
                  "0.40956",
                  "0.8137650000000001",
                  "1.0"
                ],
                [
                  "Attribute34",
                  "351.0",
                  "0.014480113960113956",
                  "0.4683372231220803",
                  "-1.0",
                  "-0.16535",
                  "0.0",
                  "0.17166",
                  "1.0"
                ]
              ],
              "shape": {
                "columns": 8,
                "rows": 34
              }
            },
            "text/html": [
              "<div>\n",
              "<style scoped>\n",
              "    .dataframe tbody tr th:only-of-type {\n",
              "        vertical-align: middle;\n",
              "    }\n",
              "\n",
              "    .dataframe tbody tr th {\n",
              "        vertical-align: top;\n",
              "    }\n",
              "\n",
              "    .dataframe thead th {\n",
              "        text-align: right;\n",
              "    }\n",
              "</style>\n",
              "<table border=\"1\" class=\"dataframe\">\n",
              "  <thead>\n",
              "    <tr style=\"text-align: right;\">\n",
              "      <th></th>\n",
              "      <th>count</th>\n",
              "      <th>mean</th>\n",
              "      <th>std</th>\n",
              "      <th>min</th>\n",
              "      <th>25%</th>\n",
              "      <th>50%</th>\n",
              "      <th>75%</th>\n",
              "      <th>max</th>\n",
              "    </tr>\n",
              "  </thead>\n",
              "  <tbody>\n",
              "    <tr>\n",
              "      <th>Attribute1</th>\n",
              "      <td>351.0</td>\n",
              "      <td>0.891738</td>\n",
              "      <td>0.311155</td>\n",
              "      <td>0.0</td>\n",
              "      <td>1.000000</td>\n",
              "      <td>1.00000</td>\n",
              "      <td>1.000000</td>\n",
              "      <td>1.0</td>\n",
              "    </tr>\n",
              "    <tr>\n",
              "      <th>Attribute2</th>\n",
              "      <td>351.0</td>\n",
              "      <td>0.000000</td>\n",
              "      <td>0.000000</td>\n",
              "      <td>0.0</td>\n",
              "      <td>0.000000</td>\n",
              "      <td>0.00000</td>\n",
              "      <td>0.000000</td>\n",
              "      <td>0.0</td>\n",
              "    </tr>\n",
              "    <tr>\n",
              "      <th>Attribute3</th>\n",
              "      <td>351.0</td>\n",
              "      <td>0.641342</td>\n",
              "      <td>0.497708</td>\n",
              "      <td>-1.0</td>\n",
              "      <td>0.472135</td>\n",
              "      <td>0.87111</td>\n",
              "      <td>1.000000</td>\n",
              "      <td>1.0</td>\n",
              "    </tr>\n",
              "    <tr>\n",
              "      <th>Attribute4</th>\n",
              "      <td>351.0</td>\n",
              "      <td>0.044372</td>\n",
              "      <td>0.441435</td>\n",
              "      <td>-1.0</td>\n",
              "      <td>-0.064735</td>\n",
              "      <td>0.01631</td>\n",
              "      <td>0.194185</td>\n",
              "      <td>1.0</td>\n",
              "    </tr>\n",
              "    <tr>\n",
              "      <th>Attribute5</th>\n",
              "      <td>351.0</td>\n",
              "      <td>0.601068</td>\n",
              "      <td>0.519862</td>\n",
              "      <td>-1.0</td>\n",
              "      <td>0.412660</td>\n",
              "      <td>0.80920</td>\n",
              "      <td>1.000000</td>\n",
              "      <td>1.0</td>\n",
              "    </tr>\n",
              "    <tr>\n",
              "      <th>Attribute6</th>\n",
              "      <td>351.0</td>\n",
              "      <td>0.115889</td>\n",
              "      <td>0.460810</td>\n",
              "      <td>-1.0</td>\n",
              "      <td>-0.024795</td>\n",
              "      <td>0.02280</td>\n",
              "      <td>0.334655</td>\n",
              "      <td>1.0</td>\n",
              "    </tr>\n",
              "    <tr>\n",
              "      <th>Attribute7</th>\n",
              "      <td>351.0</td>\n",
              "      <td>0.550095</td>\n",
              "      <td>0.492654</td>\n",
              "      <td>-1.0</td>\n",
              "      <td>0.211310</td>\n",
              "      <td>0.72873</td>\n",
              "      <td>0.969240</td>\n",
              "      <td>1.0</td>\n",
              "    </tr>\n",
              "    <tr>\n",
              "      <th>Attribute8</th>\n",
              "      <td>351.0</td>\n",
              "      <td>0.119360</td>\n",
              "      <td>0.520750</td>\n",
              "      <td>-1.0</td>\n",
              "      <td>-0.054840</td>\n",
              "      <td>0.01471</td>\n",
              "      <td>0.445675</td>\n",
              "      <td>1.0</td>\n",
              "    </tr>\n",
              "    <tr>\n",
              "      <th>Attribute9</th>\n",
              "      <td>351.0</td>\n",
              "      <td>0.511848</td>\n",
              "      <td>0.507066</td>\n",
              "      <td>-1.0</td>\n",
              "      <td>0.087110</td>\n",
              "      <td>0.68421</td>\n",
              "      <td>0.953240</td>\n",
              "      <td>1.0</td>\n",
              "    </tr>\n",
              "    <tr>\n",
              "      <th>Attribute10</th>\n",
              "      <td>351.0</td>\n",
              "      <td>0.181345</td>\n",
              "      <td>0.483851</td>\n",
              "      <td>-1.0</td>\n",
              "      <td>-0.048075</td>\n",
              "      <td>0.01829</td>\n",
              "      <td>0.534195</td>\n",
              "      <td>1.0</td>\n",
              "    </tr>\n",
              "    <tr>\n",
              "      <th>Attribute11</th>\n",
              "      <td>351.0</td>\n",
              "      <td>0.476183</td>\n",
              "      <td>0.563496</td>\n",
              "      <td>-1.0</td>\n",
              "      <td>0.021120</td>\n",
              "      <td>0.66798</td>\n",
              "      <td>0.957895</td>\n",
              "      <td>1.0</td>\n",
              "    </tr>\n",
              "    <tr>\n",
              "      <th>Attribute12</th>\n",
              "      <td>351.0</td>\n",
              "      <td>0.155040</td>\n",
              "      <td>0.494817</td>\n",
              "      <td>-1.0</td>\n",
              "      <td>-0.065265</td>\n",
              "      <td>0.02825</td>\n",
              "      <td>0.482375</td>\n",
              "      <td>1.0</td>\n",
              "    </tr>\n",
              "    <tr>\n",
              "      <th>Attribute13</th>\n",
              "      <td>351.0</td>\n",
              "      <td>0.400801</td>\n",
              "      <td>0.622186</td>\n",
              "      <td>-1.0</td>\n",
              "      <td>0.000000</td>\n",
              "      <td>0.64407</td>\n",
              "      <td>0.955505</td>\n",
              "      <td>1.0</td>\n",
              "    </tr>\n",
              "    <tr>\n",
              "      <th>Attribute14</th>\n",
              "      <td>351.0</td>\n",
              "      <td>0.093414</td>\n",
              "      <td>0.494873</td>\n",
              "      <td>-1.0</td>\n",
              "      <td>-0.073725</td>\n",
              "      <td>0.03027</td>\n",
              "      <td>0.374860</td>\n",
              "      <td>1.0</td>\n",
              "    </tr>\n",
              "    <tr>\n",
              "      <th>Attribute15</th>\n",
              "      <td>351.0</td>\n",
              "      <td>0.344159</td>\n",
              "      <td>0.652828</td>\n",
              "      <td>-1.0</td>\n",
              "      <td>0.000000</td>\n",
              "      <td>0.60194</td>\n",
              "      <td>0.919330</td>\n",
              "      <td>1.0</td>\n",
              "    </tr>\n",
              "    <tr>\n",
              "      <th>Attribute16</th>\n",
              "      <td>351.0</td>\n",
              "      <td>0.071132</td>\n",
              "      <td>0.458371</td>\n",
              "      <td>-1.0</td>\n",
              "      <td>-0.081705</td>\n",
              "      <td>0.00000</td>\n",
              "      <td>0.308975</td>\n",
              "      <td>1.0</td>\n",
              "    </tr>\n",
              "    <tr>\n",
              "      <th>Attribute17</th>\n",
              "      <td>351.0</td>\n",
              "      <td>0.381949</td>\n",
              "      <td>0.618020</td>\n",
              "      <td>-1.0</td>\n",
              "      <td>0.000000</td>\n",
              "      <td>0.59091</td>\n",
              "      <td>0.935705</td>\n",
              "      <td>1.0</td>\n",
              "    </tr>\n",
              "    <tr>\n",
              "      <th>Attribute18</th>\n",
              "      <td>351.0</td>\n",
              "      <td>-0.003617</td>\n",
              "      <td>0.496762</td>\n",
              "      <td>-1.0</td>\n",
              "      <td>-0.225690</td>\n",
              "      <td>0.00000</td>\n",
              "      <td>0.195285</td>\n",
              "      <td>1.0</td>\n",
              "    </tr>\n",
              "    <tr>\n",
              "      <th>Attribute19</th>\n",
              "      <td>351.0</td>\n",
              "      <td>0.359390</td>\n",
              "      <td>0.626267</td>\n",
              "      <td>-1.0</td>\n",
              "      <td>0.000000</td>\n",
              "      <td>0.57619</td>\n",
              "      <td>0.899265</td>\n",
              "      <td>1.0</td>\n",
              "    </tr>\n",
              "    <tr>\n",
              "      <th>Attribute20</th>\n",
              "      <td>351.0</td>\n",
              "      <td>-0.024025</td>\n",
              "      <td>0.519076</td>\n",
              "      <td>-1.0</td>\n",
              "      <td>-0.234670</td>\n",
              "      <td>0.00000</td>\n",
              "      <td>0.134370</td>\n",
              "      <td>1.0</td>\n",
              "    </tr>\n",
              "    <tr>\n",
              "      <th>Attribute21</th>\n",
              "      <td>351.0</td>\n",
              "      <td>0.336695</td>\n",
              "      <td>0.609828</td>\n",
              "      <td>-1.0</td>\n",
              "      <td>0.000000</td>\n",
              "      <td>0.49909</td>\n",
              "      <td>0.894865</td>\n",
              "      <td>1.0</td>\n",
              "    </tr>\n",
              "    <tr>\n",
              "      <th>Attribute22</th>\n",
              "      <td>351.0</td>\n",
              "      <td>0.008296</td>\n",
              "      <td>0.518166</td>\n",
              "      <td>-1.0</td>\n",
              "      <td>-0.243870</td>\n",
              "      <td>0.00000</td>\n",
              "      <td>0.188760</td>\n",
              "      <td>1.0</td>\n",
              "    </tr>\n",
              "    <tr>\n",
              "      <th>Attribute23</th>\n",
              "      <td>351.0</td>\n",
              "      <td>0.362475</td>\n",
              "      <td>0.603767</td>\n",
              "      <td>-1.0</td>\n",
              "      <td>0.000000</td>\n",
              "      <td>0.53176</td>\n",
              "      <td>0.911235</td>\n",
              "      <td>1.0</td>\n",
              "    </tr>\n",
              "    <tr>\n",
              "      <th>Attribute24</th>\n",
              "      <td>351.0</td>\n",
              "      <td>-0.057406</td>\n",
              "      <td>0.527456</td>\n",
              "      <td>-1.0</td>\n",
              "      <td>-0.366885</td>\n",
              "      <td>0.00000</td>\n",
              "      <td>0.164630</td>\n",
              "      <td>1.0</td>\n",
              "    </tr>\n",
              "    <tr>\n",
              "      <th>Attribute25</th>\n",
              "      <td>351.0</td>\n",
              "      <td>0.396135</td>\n",
              "      <td>0.578451</td>\n",
              "      <td>-1.0</td>\n",
              "      <td>0.000000</td>\n",
              "      <td>0.55389</td>\n",
              "      <td>0.905240</td>\n",
              "      <td>1.0</td>\n",
              "    </tr>\n",
              "    <tr>\n",
              "      <th>Attribute26</th>\n",
              "      <td>351.0</td>\n",
              "      <td>-0.071187</td>\n",
              "      <td>0.508495</td>\n",
              "      <td>-1.0</td>\n",
              "      <td>-0.332390</td>\n",
              "      <td>-0.01505</td>\n",
              "      <td>0.156765</td>\n",
              "      <td>1.0</td>\n",
              "    </tr>\n",
              "    <tr>\n",
              "      <th>Attribute27</th>\n",
              "      <td>351.0</td>\n",
              "      <td>0.541641</td>\n",
              "      <td>0.516205</td>\n",
              "      <td>-1.0</td>\n",
              "      <td>0.286435</td>\n",
              "      <td>0.70824</td>\n",
              "      <td>0.999945</td>\n",
              "      <td>1.0</td>\n",
              "    </tr>\n",
              "    <tr>\n",
              "      <th>Attribute28</th>\n",
              "      <td>351.0</td>\n",
              "      <td>-0.069538</td>\n",
              "      <td>0.550025</td>\n",
              "      <td>-1.0</td>\n",
              "      <td>-0.443165</td>\n",
              "      <td>-0.01769</td>\n",
              "      <td>0.153535</td>\n",
              "      <td>1.0</td>\n",
              "    </tr>\n",
              "    <tr>\n",
              "      <th>Attribute29</th>\n",
              "      <td>351.0</td>\n",
              "      <td>0.378445</td>\n",
              "      <td>0.575886</td>\n",
              "      <td>-1.0</td>\n",
              "      <td>0.000000</td>\n",
              "      <td>0.49664</td>\n",
              "      <td>0.883465</td>\n",
              "      <td>1.0</td>\n",
              "    </tr>\n",
              "    <tr>\n",
              "      <th>Attribute30</th>\n",
              "      <td>351.0</td>\n",
              "      <td>-0.027907</td>\n",
              "      <td>0.507974</td>\n",
              "      <td>-1.0</td>\n",
              "      <td>-0.236885</td>\n",
              "      <td>0.00000</td>\n",
              "      <td>0.154075</td>\n",
              "      <td>1.0</td>\n",
              "    </tr>\n",
              "    <tr>\n",
              "      <th>Attribute31</th>\n",
              "      <td>351.0</td>\n",
              "      <td>0.352514</td>\n",
              "      <td>0.571483</td>\n",
              "      <td>-1.0</td>\n",
              "      <td>0.000000</td>\n",
              "      <td>0.44277</td>\n",
              "      <td>0.857620</td>\n",
              "      <td>1.0</td>\n",
              "    </tr>\n",
              "    <tr>\n",
              "      <th>Attribute32</th>\n",
              "      <td>351.0</td>\n",
              "      <td>-0.003794</td>\n",
              "      <td>0.513574</td>\n",
              "      <td>-1.0</td>\n",
              "      <td>-0.242595</td>\n",
              "      <td>0.00000</td>\n",
              "      <td>0.200120</td>\n",
              "      <td>1.0</td>\n",
              "    </tr>\n",
              "    <tr>\n",
              "      <th>Attribute33</th>\n",
              "      <td>351.0</td>\n",
              "      <td>0.349364</td>\n",
              "      <td>0.522663</td>\n",
              "      <td>-1.0</td>\n",
              "      <td>0.000000</td>\n",
              "      <td>0.40956</td>\n",
              "      <td>0.813765</td>\n",
              "      <td>1.0</td>\n",
              "    </tr>\n",
              "    <tr>\n",
              "      <th>Attribute34</th>\n",
              "      <td>351.0</td>\n",
              "      <td>0.014480</td>\n",
              "      <td>0.468337</td>\n",
              "      <td>-1.0</td>\n",
              "      <td>-0.165350</td>\n",
              "      <td>0.00000</td>\n",
              "      <td>0.171660</td>\n",
              "      <td>1.0</td>\n",
              "    </tr>\n",
              "  </tbody>\n",
              "</table>\n",
              "</div>"
            ],
            "text/plain": [
              "             count      mean       std  min       25%      50%       75%  max\n",
              "Attribute1   351.0  0.891738  0.311155  0.0  1.000000  1.00000  1.000000  1.0\n",
              "Attribute2   351.0  0.000000  0.000000  0.0  0.000000  0.00000  0.000000  0.0\n",
              "Attribute3   351.0  0.641342  0.497708 -1.0  0.472135  0.87111  1.000000  1.0\n",
              "Attribute4   351.0  0.044372  0.441435 -1.0 -0.064735  0.01631  0.194185  1.0\n",
              "Attribute5   351.0  0.601068  0.519862 -1.0  0.412660  0.80920  1.000000  1.0\n",
              "Attribute6   351.0  0.115889  0.460810 -1.0 -0.024795  0.02280  0.334655  1.0\n",
              "Attribute7   351.0  0.550095  0.492654 -1.0  0.211310  0.72873  0.969240  1.0\n",
              "Attribute8   351.0  0.119360  0.520750 -1.0 -0.054840  0.01471  0.445675  1.0\n",
              "Attribute9   351.0  0.511848  0.507066 -1.0  0.087110  0.68421  0.953240  1.0\n",
              "Attribute10  351.0  0.181345  0.483851 -1.0 -0.048075  0.01829  0.534195  1.0\n",
              "Attribute11  351.0  0.476183  0.563496 -1.0  0.021120  0.66798  0.957895  1.0\n",
              "Attribute12  351.0  0.155040  0.494817 -1.0 -0.065265  0.02825  0.482375  1.0\n",
              "Attribute13  351.0  0.400801  0.622186 -1.0  0.000000  0.64407  0.955505  1.0\n",
              "Attribute14  351.0  0.093414  0.494873 -1.0 -0.073725  0.03027  0.374860  1.0\n",
              "Attribute15  351.0  0.344159  0.652828 -1.0  0.000000  0.60194  0.919330  1.0\n",
              "Attribute16  351.0  0.071132  0.458371 -1.0 -0.081705  0.00000  0.308975  1.0\n",
              "Attribute17  351.0  0.381949  0.618020 -1.0  0.000000  0.59091  0.935705  1.0\n",
              "Attribute18  351.0 -0.003617  0.496762 -1.0 -0.225690  0.00000  0.195285  1.0\n",
              "Attribute19  351.0  0.359390  0.626267 -1.0  0.000000  0.57619  0.899265  1.0\n",
              "Attribute20  351.0 -0.024025  0.519076 -1.0 -0.234670  0.00000  0.134370  1.0\n",
              "Attribute21  351.0  0.336695  0.609828 -1.0  0.000000  0.49909  0.894865  1.0\n",
              "Attribute22  351.0  0.008296  0.518166 -1.0 -0.243870  0.00000  0.188760  1.0\n",
              "Attribute23  351.0  0.362475  0.603767 -1.0  0.000000  0.53176  0.911235  1.0\n",
              "Attribute24  351.0 -0.057406  0.527456 -1.0 -0.366885  0.00000  0.164630  1.0\n",
              "Attribute25  351.0  0.396135  0.578451 -1.0  0.000000  0.55389  0.905240  1.0\n",
              "Attribute26  351.0 -0.071187  0.508495 -1.0 -0.332390 -0.01505  0.156765  1.0\n",
              "Attribute27  351.0  0.541641  0.516205 -1.0  0.286435  0.70824  0.999945  1.0\n",
              "Attribute28  351.0 -0.069538  0.550025 -1.0 -0.443165 -0.01769  0.153535  1.0\n",
              "Attribute29  351.0  0.378445  0.575886 -1.0  0.000000  0.49664  0.883465  1.0\n",
              "Attribute30  351.0 -0.027907  0.507974 -1.0 -0.236885  0.00000  0.154075  1.0\n",
              "Attribute31  351.0  0.352514  0.571483 -1.0  0.000000  0.44277  0.857620  1.0\n",
              "Attribute32  351.0 -0.003794  0.513574 -1.0 -0.242595  0.00000  0.200120  1.0\n",
              "Attribute33  351.0  0.349364  0.522663 -1.0  0.000000  0.40956  0.813765  1.0\n",
              "Attribute34  351.0  0.014480  0.468337 -1.0 -0.165350  0.00000  0.171660  1.0"
            ]
          },
          "metadata": {},
          "output_type": "display_data"
        }
      ],
      "source": [
        "# 4.1 Informasi DataFrame\n",
        "print(\"Info DataFrame:\")\n",
        "df.info()\n",
        "\n",
        "# 4.1 Ringkasan Statistik Numerik\n",
        "print(\"\\nStatistik Deskriptif:\")\n",
        "display(df.describe().T)\n"
      ]
    },
    {
      "cell_type": "markdown",
      "metadata": {
        "id": "j4llsAa-igXo"
      },
      "source": [
        "## **Insights:**\n",
        "\n",
        "Berdasarkan `df.info()` dan `df.describe().T`, berikut beberapa poin penting yang perlu dipahami:\n",
        "\n",
        "1. Struktur Data  \n",
        "   - Terdapat **351 baris** dan **35 kolom** (34 fitur + 1 kolom `Class`).  \n",
        "   - **Tipe kolom**:  \n",
        "     • 2 kolom `int64` (Attribute1, Attribute2)  \n",
        "     • 32 kolom `float64` (Attribute3–Attribute34)  \n",
        "     • 1 kolom `object` (`Class`)  \n",
        "   - **Tidak ada missing values** pada seluruh kolom, memastikan kita tidak perlu imputasi.  \n",
        "   - Memory footprint hanya ~96 KB\n",
        "\n",
        "2. Atribut “Attribute2”  \n",
        "   - Dari statistik:  \n",
        "     • **mean = 0**, **std = 0**, **min = max = 0**  \n",
        "   - Artinya kolom ini **konstan** dan tidak membawa informasi apa-apa → sebaiknya di-drop sebelum modelling.\n",
        "\n",
        "3. Atribut “Attribute1”  \n",
        "   - Hanya bernilai 0 atau 1 (binary flag), dengan **mean ≈ 0.89** → sekitar 89 % sampel memiliki nilai 1.  \n",
        "   - Ini bisa diinterpretasikan sebagai indikator primer (mungkin sinyal dasar) dan tetap digunakan sebagai fitur.\n",
        "\n",
        "4. Skala dan Sebaran Fitur Kontinu (Attribute3–Attribute34)  \n",
        "   - Range semua fitur terbatasi di **[-1, 1]** → data sudah ternormalisasi/pra-diproses oleh UCI.  \n",
        "   - Banyak median di 0 (50 % data di bawah/atas nol) → distribusi relatif simetris.  \n",
        "   - Standar deviasi bervariasi ~0.44–0.65, menunjukkan beberapa fitur lebih tersebar daripada yang lain.  \n",
        "   - Tidak ada nilai ekstrim di luar [-1, 1], sehingga outlier ekstrem tidak perlu penanganan khusus.\n",
        "\n",
        "5. Kolom Target `Class`  \n",
        "   - Tipe `object` dengan dua label: “g” (good) dan “b” (bad).  \n",
        "   - Kelak perlu di-encode ke numerik (1/0) untuk model.\n",
        "\n",
        "---"
      ]
    },
    {
      "cell_type": "code",
      "execution_count": null,
      "metadata": {
        "colab": {
          "base_uri": "https://localhost:8080/"
        },
        "id": "fIUMEzl3bgXE",
        "outputId": "84dee2c0-fe56-4f5a-86aa-56227db94bd6"
      },
      "outputs": [
        {
          "name": "stdout",
          "output_type": "stream",
          "text": [
            "Missing values per kolom:\n",
            " Tidak ada missing values\n",
            "\n",
            "Jumlah duplikat: 1 baris\n"
          ]
        }
      ],
      "source": [
        "# 4.2 Missing values\n",
        "missing = df.isna().sum()\n",
        "print(\"Missing values per kolom:\\n\", missing[missing > 0].any() or \"Tidak ada missing values\")\n",
        "\n",
        "# 4.2 Duplikat\n",
        "n_dup = df.duplicated().sum()\n",
        "print(f\"\\nJumlah duplikat: {n_dup} baris\")"
      ]
    },
    {
      "cell_type": "markdown",
      "metadata": {
        "id": "1-Zw5o3Fl4I3"
      },
      "source": [
        "## **Insights:**\n",
        "\n",
        "Pada tahap ini, saya memverifikasi dua hal penting untuk menjamin kualitas data:\n",
        "\n",
        "1. **Missing Values**  \n",
        "   - Hasil `df.isna().sum()` menunjukkan **tidak ada missing values** di seluruh kolom.  \n",
        "   - Insight: Karena dataset sudah bersih dari nilai kosong, kita tidak perlu melakukan imputasi—proses preprocessing bisa langsung fokus pada transformasi dan scaling fitur.  \n",
        "\n",
        "2. **Duplikat**  \n",
        "   - Terdapat **1 baris duplikat** (`df.duplicated().sum() == 1`).  \n",
        "   - Insight: Baris yang benar-benar sama dapat memperkenalkan bias (overfitting) pada model. Kita perlu menghapus duplikat tersebut agar setiap sampel mewakili observasi unik.  \n",
        "---"
      ]
    },
    {
      "cell_type": "code",
      "execution_count": null,
      "metadata": {
        "colab": {
          "base_uri": "https://localhost:8080/",
          "height": 483
        },
        "id": "oZxRXu8obpiQ",
        "outputId": "9e904768-fe25-4600-cdd7-cbba33383a72"
      },
      "outputs": [
        {
          "name": "stderr",
          "output_type": "stream",
          "text": [
            "C:\\Users\\Asus\\AppData\\Local\\Temp\\ipykernel_16012\\3770974625.py:5: FutureWarning: \n",
            "\n",
            "Passing `palette` without assigning `hue` is deprecated and will be removed in v0.14.0. Assign the `x` variable to `hue` and set `legend=False` for the same effect.\n",
            "\n",
            "  sns.countplot(x=\"Class\", data=df, palette=\"Set2\")\n"
          ]
        },
        {
          "data": {
            "image/png": "[encoded data removed]",
            "text/plain": [
              "<Figure size 640x480 with 1 Axes>"
            ]
          },
          "metadata": {},
          "output_type": "display_data"
        }
      ],
      "source": [
        "import matplotlib.pyplot as plt\n",
        "import seaborn as sns\n",
        "\n",
        "plt.figure()\n",
        "sns.countplot(x=\"Class\", data=df, palette=\"Set2\")\n",
        "plt.title(\"Distribusi Kelas Target\")\n",
        "plt.xlabel(\"Class (g = good, b = bad)\")\n",
        "plt.ylabel(\"Jumlah Sampel\")\n",
        "plt.show()"
      ]
    },
    {
      "cell_type": "markdown",
      "metadata": {
        "id": "khbvHtIKmXe-"
      },
      "source": [
        "## **Insights:**\n",
        "\n",
        "Dari bar chart “Distribusi Kelas Target” kita bisa simpulkan:\n",
        "\n",
        "- **Class “g” (good)**: ~64% (≈225 sampel)  \n",
        "- **Class “b” (bad)**:  ~36% (≈126 sampel)\n",
        "\n",
        "---"
      ]
    },
    {
      "cell_type": "code",
      "execution_count": null,
      "metadata": {
        "colab": {
          "base_uri": "https://localhost:8080/",
          "height": 431
        },
        "id": "1p-yRB88bwmW",
        "outputId": "8f2700be-8ce7-402f-fbdc-aa64a71d5c69"
      },
      "outputs": [
        {
          "data": {
            "image/png": "[encoded data removed]",
            "text/plain": [
              "<Figure size 1200x600 with 6 Axes>"
            ]
          },
          "metadata": {},
          "output_type": "display_data"
        }
      ],
      "source": [
        "# Pilih 6 fitur pertama untuk contoh\n",
        "sample_feats = df.columns[:6]\n",
        "\n",
        "df[sample_feats].hist(bins=20, figsize=(12, 6), color=\"#4c72b0\", edgecolor=\"white\")\n",
        "plt.suptitle(\"Histogram 6 Fitur Pertama\", y=0.98)\n",
        "plt.show()"
      ]
    },
    {
      "cell_type": "markdown",
      "metadata": {
        "id": "DnFJcUMWnMiD"
      },
      "source": [
        "## **Insights:**\n",
        "\n",
        "Dari visualisasi histogram fitur `Attribute1`–`Attribute6`, kita bisa menangkap beberapa poin penting:\n",
        "\n",
        "1. **Attribute1 (binary flag)**  \n",
        "   - Hanya bernilai 0 atau 1.  \n",
        "   - Sekitar 89 % sampel bernilai 1, sisanya 11 % bernilai 0.  \n",
        "   - Ini mengindikasikan fitur ini adalah indikator (flag) yang sangat dominan “on” di mayoritas sampel.\n",
        "\n",
        "2. **Attribute2 (konstan)**  \n",
        "   - Semua nilai sama-sama 0, tanpa variasi.  \n",
        "   - Fitur ini **tidak membawa informasi**—sebaiknya langsung di-drop sebelum modelling karena varian = 0.\n",
        "\n",
        "3. **Attribute3 (pre-normalized, positif-skewed)**  \n",
        "   - Rentang nilai di [–1, 1], dengan puncak frekuensi di ujung kanan (mendekati 1).  \n",
        "   - Menandakan banyak sinyal “kuat” untuk pulse ke-3, sementara sisanya tersebar di nilai menengah.\n",
        "\n",
        "4. **Attribute4 (simetris di sekitar nol)**  \n",
        "   - Sebaran hampir simetris, puncak di dekat 0.  \n",
        "   - Menunjukkan sebagian besar observasi pada pulse ke-4 menghasilkan sinyal “netral” atau noise kecil.\n",
        "\n",
        "5. **Attribute5 (positively skewed)**  \n",
        "   - Mirip `Attribute3`, banyak nilai dekat 1, artinya sinyal pulse ke-5 umumnya kuat.  \n",
        "   - Kurang data di sisi negatif/menengah → potensi fitur ini sangat informatif untuk klasifikasi.\n",
        "\n",
        "6. **Attribute6 (cluster di tengah)**  \n",
        "   - Sebaran lebih “merata” di sekitar nol, dengan tail ringan ke kedua ujung.  \n",
        "   - Fitur ini relatif lebih variatif dibanding `Attribute3`/`5`, dapat membantu model menangkap pola halus.\n",
        "\n",
        "---\n"
      ]
    },
    {
      "cell_type": "code",
      "execution_count": null,
      "metadata": {
        "colab": {
          "base_uri": "https://localhost:8080/",
          "height": 279
        },
        "id": "LKOHqRT_b1gD",
        "outputId": "f58bce4e-5bdd-4151-db92-43836376dc97"
      },
      "outputs": [
        {
          "data": {
            "image/png": "[encoded data removed]",
            "text/plain": [
              "<Figure size 1200x400 with 1 Axes>"
            ]
          },
          "metadata": {},
          "output_type": "display_data"
        }
      ],
      "source": [
        "plt.figure(figsize=(12, 4))\n",
        "sns.boxplot(data=df[sample_feats], orient=\"h\", palette=\"Set3\")\n",
        "plt.title(\"Boxplot 6 Fitur Pertama\")\n",
        "plt.show()"
      ]
    },
    {
      "cell_type": "markdown",
      "metadata": {
        "id": "xDmNm_NCoFbt"
      },
      "source": [
        "## **Insights:**\n",
        "\n",
        "Berikut hal-hal penting yang bisa disimpulkan dari boxplot `Attribute1`–`Attribute6`:\n",
        "\n",
        "1. Attribute1 – Binary Flag  \n",
        "   - Hanya berisi 0/1, median tepat di 1.  \n",
        "   - Sebagai variabel kategorikal biner, tidak perlu deteksi outlier atau transformasi non-linier; cukup treat-as-is.\n",
        "\n",
        "2. Attribute2 – Nol Varian  \n",
        "   - Semua nilai tepat 0 → IQR = 0, whisker pun sama.  \n",
        "   - Kolom ini **tidak** mengandung informasi, sebaiknya **drop** sebelum modelling.\n",
        "\n",
        "3. Attribute3 – Positively Skewed, Tight IQR  \n",
        "   - Q1≈0.47, median≈0.87, Q3≈1.00; whisker bawah menjulur ke ~0.  \n",
        "   - Menandakan sebagian besar sampel memberikan sinyal “kuat” untuk pulse 3, dengan beberapa outlier rendah.\n",
        "\n",
        "4. Attribute4 – Simetris di Sekitar 0  \n",
        "   - Q1≈−0.07, median≈0.02, Q3≈0.19; whisker merentang kira-kira [−0.5, 0.5].  \n",
        "   - Distribusi hampir normal di sekitar nol, outlier relatif sedikit.\n",
        "\n",
        "5. Attribute5 – Skewed ke Arah Positif  \n",
        "   - Q1≈0.41, median≈0.81, Q3≈1.00; whisker bawah sampai ~0.  \n",
        "   - Hampir semua nilai tinggi (“kuat”), sedikit sampel dengan intensitas rendah.\n",
        "\n",
        "6. Attribute6 – Variasi Moderat di Sekitar 0  \n",
        "   - Q1≈−0.02, median≈0.02, Q3≈0.33; whisker merentang lebih panjang di kedua sisi.  \n",
        "   - Ada beberapa outlier di ujung, menandakan pulse 6 bervariasi.\n",
        "\n",
        "---"
      ]
    },
    {
      "cell_type": "code",
      "execution_count": null,
      "metadata": {
        "colab": {
          "base_uri": "https://localhost:8080/",
          "height": 1000
        },
        "id": "l9mf7W4_b4_5",
        "outputId": "af1a89e6-22af-4671-fc3c-ea99af45ee07"
      },
      "outputs": [
        {
          "name": "stdout",
          "output_type": "stream",
          "text": [
            "Top 10 korelasi fitur dengan target:\n"
          ]
        },
        {
          "data": {
            "application/vnd.microsoft.datawrangler.viewer.v0+json": {
              "columns": [
                {
                  "name": "index",
                  "rawType": "object",
                  "type": "string"
                },
                {
                  "name": "ClassNum",
                  "rawType": "float64",
                  "type": "float"
                }
              ],
              "ref": "e531a278-053f-450f-aed7-c29db34f03b0",
              "rows": [
                [
                  "Attribute3",
                  "0.5191447275586409"
                ],
                [
                  "Attribute5",
                  "0.5164766632928793"
                ],
                [
                  "Attribute1",
                  "0.4656135560410005"
                ],
                [
                  "Attribute7",
                  "0.4504286063301395"
                ],
                [
                  "Attribute9",
                  "0.2948523690138843"
                ],
                [
                  "Attribute31",
                  "0.29441717842380594"
                ],
                [
                  "Attribute33",
                  "0.26115714656045436"
                ],
                [
                  "Attribute29",
                  "0.25003621811212856"
                ],
                [
                  "Attribute21",
                  "0.21958288010097607"
                ],
                [
                  "Attribute8",
                  "0.207544373595083"
                ]
              ],
              "shape": {
                "columns": 1,
                "rows": 10
              }
            },
            "text/plain": [
              "Attribute3     0.519145\n",
              "Attribute5     0.516477\n",
              "Attribute1     0.465614\n",
              "Attribute7     0.450429\n",
              "Attribute9     0.294852\n",
              "Attribute31    0.294417\n",
              "Attribute33    0.261157\n",
              "Attribute29    0.250036\n",
              "Attribute21    0.219583\n",
              "Attribute8     0.207544\n",
              "Name: ClassNum, dtype: float64"
            ]
          },
          "metadata": {},
          "output_type": "display_data"
        },
        {
          "data": {
            "image/png": "[encoded data removed]",
            "text/plain": [
              "<Figure size 600x800 with 1 Axes>"
            ]
          },
          "metadata": {},
          "output_type": "display_data"
        }
      ],
      "source": [
        "# Map target ke numerik\n",
        "df_corr = df.copy()\n",
        "df_corr[\"ClassNum\"] = df_corr[\"Class\"].map({\"g\": 1, \"b\": 0})\n",
        "\n",
        "# Korelasi\n",
        "# Exclude the original 'Class' column before calculating correlation\n",
        "corr = df_corr.drop('Class', axis=1).corr()[\"ClassNum\"].sort_values(ascending=False)\n",
        "\n",
        "# Tampilkan top 10 fitur\n",
        "print(\"Top 10 korelasi fitur dengan target:\")\n",
        "display(corr.head(11)[1:11])\n",
        "\n",
        "# Heatmap\n",
        "plt.figure(figsize=(6, 8))\n",
        "# Pastikan corr.values adalah numpy array, lalu gunakan reshape\n",
        "import numpy as np\n",
        "corr_np = np.array(corr.values).reshape(-1, 1)\n",
        "# Konversi yticklabels ke list agar kompatibel dengan heatmap\n",
        "sns.heatmap(corr_np,\n",
        "            yticklabels=list(corr.index),\n",
        "            annot=True, cmap=\"vlag\", cbar=False, fmt=\".2f\")\n",
        "plt.title(\"Korelasi Fitur vs Target\")\n",
        "plt.show()"
      ]
    },
    {
      "cell_type": "markdown",
      "metadata": {
        "id": "NDBz8O99pJYq"
      },
      "source": [
        "## **Insights:**\n",
        "\n",
        "Berdasarkan perhitungan korelasi (`corr[\"ClassNum\"]`) dan visualisasi heatmap, kita memperoleh daftar 10 fitur teratas yang paling berhubungan dengan label “good” (1):\n",
        "\n",
        "| Peringkat | Fitur       | Korelasi |\n",
        "|-----------|-------------|----------|\n",
        "| 1         | Attribute3  | 0.52     |\n",
        "| 2         | Attribute5  | 0.52     |\n",
        "| 3         | Attribute1  | 0.47     |\n",
        "| 4         | Attribute7  | 0.45     |\n",
        "| 5         | Attribute9  | 0.29     |\n",
        "| 6         | Attribute31 | 0.29     |\n",
        "| 7         | Attribute33 | 0.26     |\n",
        "| 8         | Attribute29 | 0.25     |\n",
        "| 9         | Attribute21 | 0.22     |\n",
        "| 10        | Attribute8  | 0.21     |\n",
        "\n",
        "---"
      ]
    },
    {
      "cell_type": "code",
      "execution_count": null,
      "metadata": {
        "colab": {
          "base_uri": "https://localhost:8080/",
          "height": 712
        },
        "id": "-v9U5BUHcCN9",
        "outputId": "864f33e3-e27d-437e-a00d-c37e142c773e"
      },
      "outputs": [
        {
          "data": {
            "image/png": "[encoded data removed]",
            "text/plain": [
              "<Figure size 1058.88x1000 with 14 Axes>"
            ]
          },
          "metadata": {},
          "output_type": "display_data"
        }
      ],
      "source": [
        "top_feats = corr.index[1:5].tolist()  # 4 fitur teratas selain target\n",
        "sns.pairplot(df, vars=top_feats, hue=\"Class\", corner=True,\n",
        "             palette={\"g\":\"#1f77b4\",\"b\":\"#ff7f0e\"})\n",
        "plt.suptitle(\"Pairplot Fitur Teratas vs Kelas\", y=1.02)\n",
        "plt.show()"
      ]
    },
    {
      "cell_type": "markdown",
      "metadata": {
        "id": "ZlBqxan1p_SS"
      },
      "source": [
        "## **Insights:**\n",
        "\n",
        "Pairplot di atas menampilkan distribusi marginal (diagonal) dan sebaran antar-pasangan (off-diagonal) untuk empat fitur dengan korelasi tertinggi terhadap label (`Attribute3`, `Attribute5`, `Attribute1`, `Attribute7`), dipisahkan oleh kelas “g” (good) dan “b” (bad).\n",
        "\n",
        "1. Distribusi Marginal  \n",
        "   - **Attribute3 & Attribute5**:  \n",
        "     • Kelas “g” (biru) menumpuk di rentang nilai tinggi (> 0.5), sedangkan “b” (oranye) lebih tersebar ke nilai rendah.  \n",
        "     • Kedua fitur ini benar-benar membedakan kelas, sesuai korelasi positif ~0.52.  \n",
        "   - **Attribute1 (binary)**:  \n",
        "     • Hampir semua “g” bernilai 1, sedangkan “b” terlihat sedikit sampel di 0.  \n",
        "     • Konfirmasi bahwa flag ini sangat informatif—fitur biner simpel tapi kuat.  \n",
        "   - **Attribute7**:  \n",
        "     • “g” cenderung memiliki nilai > 0.2, sedangkan “b” lebih sering di bawah 0.2.  \n",
        "     • Memperlihatkan korelasi positif moderat (~0.45).\n",
        "\n",
        "2. Sebaran Antar‐Pasangan  \n",
        "   - **Attribute3 vs Attribute5**:  \n",
        "     • Titik “g” berkumpul di kuadran kanan-atas (keduanya tinggi), sedangkan “b” tersebar di kiri-bawah dan tengah-bawah.  \n",
        "     • Ini menunjukkan kedua fitur bersama-sama meningkatkan pemisahan kelas.  \n",
        "   - **Attribute1 vs Attribute3 (dan 5)**:  \n",
        "     • Saat `Attribute1 = 0`, sebagian besar titik adalah “b”, menegaskan peran `Attribute1` sebagai indikator kuat “bad”.  \n",
        "     • Di `Attribute1 = 1`, kita kembali melihat pola nilai `3` & `5` membedakan “g” vs “b”.  \n",
        "   - **Attribute7 vs lainnya**:  \n",
        "     • Titik “g” membentuk klaster terpisah di area nilai medium-tinggi (`Attribute7` > 0.2) saat dipasangkan dengan `3` atau `5`.  \n",
        "     • Distribusi “b” terlihat lebih acak dan lemah klasternya.\n",
        "\n",
        "---"
      ]
    },
    {
      "cell_type": "markdown",
      "metadata": {
        "id": "cpgHfgnSK3ip"
      },
      "source": [
        "# **5. Data Preprocessing**"
      ]
    },
    {
      "cell_type": "markdown",
      "metadata": {
        "id": "FxkwzzXXcVXk"
      },
      "source": [
        "Pada tahap ini, saya mempersiapkan data Ionosphere agar siap dipakai dalam pemodelan machine learning. Langkah-langkah yang dilakukan:\n",
        "\n",
        "1. Encoding target `Class`  \n",
        "2. Menghapus duplikat (jika ada)  \n",
        "3. Standarisasi fitur numerik  \n",
        "4. Membagi data menjadi train/test"
      ]
    },
    {
      "cell_type": "code",
      "execution_count": null,
      "metadata": {
        "colab": {
          "base_uri": "https://localhost:8080/"
        },
        "id": "cUUrrcxNce1i",
        "outputId": "028fbe2e-12f6-4b43-b816-a28aa1f3175e"
      },
      "outputs": [
        {
          "name": "stdout",
          "output_type": "stream",
          "text": [
            "Distribusi kelas (ClassNum):\n",
            "ClassNum\n",
            "1    64.1%\n",
            "0    35.9%\n",
            "Name: proportion, dtype: object\n"
          ]
        }
      ],
      "source": [
        "# Encode target ke numerik\n",
        "df['ClassNum'] = df['Class'].map({'g': 1, 'b': 0})\n",
        "\n",
        "# Tampilkan distribusi label\n",
        "print(\"Distribusi kelas (ClassNum):\")\n",
        "print(df['ClassNum'].value_counts(normalize=True).mul(100).round(1).astype(str) + \"%\")"
      ]
    },
    {
      "cell_type": "markdown",
      "metadata": {
        "id": "MY-7wh9Qruwm"
      },
      "source": [
        "## **Insights:**\n",
        "\n",
        "Pada langkah ini, saya mengubah kolom `Class` (“g”/“b”) menjadi numerik (`ClassNum` = 1/0) agar dapat diproses oleh scikit-learn. Output distribusi label menunjukkan:\n",
        "\n",
        "- **ClassNum = 1 (good)**: 64.1% sampel  \n",
        "- **ClassNum = 0 (bad)**: 35.9% sampel  \n",
        "\n",
        "---"
      ]
    },
    {
      "cell_type": "code",
      "execution_count": null,
      "metadata": {
        "colab": {
          "base_uri": "https://localhost:8080/"
        },
        "id": "pJDHXthwchXA",
        "outputId": "8d7e89a9-7555-434c-ae9a-f278f166ccde"
      },
      "outputs": [
        {
          "name": "stdout",
          "output_type": "stream",
          "text": [
            "Baris sebelum drop_duplicates: 351\n",
            "Baris setelah  drop_duplicates: 350\n",
            "Jumlah duplikat yang dihapus: 1\n"
          ]
        }
      ],
      "source": [
        "n_before = df.shape[0]\n",
        "df = df.drop_duplicates()\n",
        "n_after = df.shape[0]\n",
        "print(f\"Baris sebelum drop_duplicates: {n_before}\")\n",
        "print(f\"Baris setelah  drop_duplicates: {n_after}\")\n",
        "print(f\"Jumlah duplikat yang dihapus: {n_before - n_after}\")"
      ]
    },
    {
      "cell_type": "markdown",
      "metadata": {
        "id": "fyaLEpSisl6z"
      },
      "source": [
        "## **Insights:**\n",
        "\n",
        "Pada tahap ini, kita meninjau dan menghapus baris duplikat untuk memastikan setiap sampel benar-benar independen:\n",
        "\n",
        "- **Jumlah baris sebelum**: 351  \n",
        "- **Jumlah baris setelah**: 350  \n",
        "- **Duplikat dihapus**: 1 baris  \n",
        "\n",
        "---"
      ]
    },
    {
      "cell_type": "code",
      "execution_count": null,
      "metadata": {
        "colab": {
          "base_uri": "https://localhost:8080/",
          "height": 162
        },
        "id": "v3WaPO0VckKN",
        "outputId": "22cd42a6-c905-416c-e1f0-61e37a46b794"
      },
      "outputs": [
        {
          "name": "stdout",
          "output_type": "stream",
          "text": [
            "Contoh nilai feature setelah scaling:\n"
          ]
        },
        {
          "data": {
            "application/vnd.microsoft.datawrangler.viewer.v0+json": {
              "columns": [
                {
                  "name": "index",
                  "rawType": "int64",
                  "type": "integer"
                },
                {
                  "name": "Attribute1",
                  "rawType": "float64",
                  "type": "float"
                },
                {
                  "name": "Attribute2",
                  "rawType": "float64",
                  "type": "float"
                },
                {
                  "name": "Attribute3",
                  "rawType": "float64",
                  "type": "float"
                },
                {
                  "name": "Attribute4",
                  "rawType": "float64",
                  "type": "float"
                },
                {
                  "name": "Attribute5",
                  "rawType": "float64",
                  "type": "float"
                }
              ],
              "ref": "3b9ee96f-71a8-42a9-8fab-12c6226edcee",
              "rows": [
                [
                  "0",
                  "0.3438180661626268",
                  "0.0",
                  "0.7093646799810869",
                  "-0.23421388268455964",
                  "0.48113634315923337"
                ],
                [
                  "1",
                  "0.3438180661626268",
                  "0.0",
                  "0.7186492484338922",
                  "-0.5273531617594874",
                  "0.6313103029198693"
                ],
                [
                  "2",
                  "0.3438180661626268",
                  "0.0",
                  "0.7186492484338922",
                  "-0.17703586565325224",
                  "0.7655456250108382"
                ]
              ],
              "shape": {
                "columns": 5,
                "rows": 3
              }
            },
            "text/html": [
              "<div>\n",
              "<style scoped>\n",
              "    .dataframe tbody tr th:only-of-type {\n",
              "        vertical-align: middle;\n",
              "    }\n",
              "\n",
              "    .dataframe tbody tr th {\n",
              "        vertical-align: top;\n",
              "    }\n",
              "\n",
              "    .dataframe thead th {\n",
              "        text-align: right;\n",
              "    }\n",
              "</style>\n",
              "<table border=\"1\" class=\"dataframe\">\n",
              "  <thead>\n",
              "    <tr style=\"text-align: right;\">\n",
              "      <th></th>\n",
              "      <th>Attribute1</th>\n",
              "      <th>Attribute2</th>\n",
              "      <th>Attribute3</th>\n",
              "      <th>Attribute4</th>\n",
              "      <th>Attribute5</th>\n",
              "    </tr>\n",
              "  </thead>\n",
              "  <tbody>\n",
              "    <tr>\n",
              "      <th>0</th>\n",
              "      <td>0.343818</td>\n",
              "      <td>0.0</td>\n",
              "      <td>0.709365</td>\n",
              "      <td>-0.234214</td>\n",
              "      <td>0.481136</td>\n",
              "    </tr>\n",
              "    <tr>\n",
              "      <th>1</th>\n",
              "      <td>0.343818</td>\n",
              "      <td>0.0</td>\n",
              "      <td>0.718649</td>\n",
              "      <td>-0.527353</td>\n",
              "      <td>0.631310</td>\n",
              "    </tr>\n",
              "    <tr>\n",
              "      <th>2</th>\n",
              "      <td>0.343818</td>\n",
              "      <td>0.0</td>\n",
              "      <td>0.718649</td>\n",
              "      <td>-0.177036</td>\n",
              "      <td>0.765546</td>\n",
              "    </tr>\n",
              "  </tbody>\n",
              "</table>\n",
              "</div>"
            ],
            "text/plain": [
              "   Attribute1  Attribute2  Attribute3  Attribute4  Attribute5\n",
              "0    0.343818         0.0    0.709365   -0.234214    0.481136\n",
              "1    0.343818         0.0    0.718649   -0.527353    0.631310\n",
              "2    0.343818         0.0    0.718649   -0.177036    0.765546"
            ]
          },
          "metadata": {},
          "output_type": "display_data"
        }
      ],
      "source": [
        "from sklearn.preprocessing import StandardScaler\n",
        "\n",
        "# Pilih kolom fitur\n",
        "feature_cols = [f\"Attribute{i}\" for i in range(1, 35)]\n",
        "\n",
        "# Inisiasi dan fit scaler\n",
        "scaler = StandardScaler()\n",
        "df[feature_cols] = scaler.fit_transform(df[feature_cols])\n",
        "\n",
        "# Cek sample setelah scaling\n",
        "print(\"Contoh nilai feature setelah scaling:\")\n",
        "display(df[feature_cols].iloc[:3, :5])"
      ]
    },
    {
      "cell_type": "markdown",
      "metadata": {
        "id": "2Iq5DsvIuGES"
      },
      "source": [
        "## **Insights:**\n",
        "\n",
        "Setelah menerapkan `StandardScaler` pada kolom `Attribute1`–`Attribute34`, kita melihat beberapa hal:\n",
        "\n",
        "1. Semua fitur kini **berpusat di mean = 0** dan memiliki **std = 1**, sehingga skala antar variabel sudah konsisten.  \n",
        "2. **Attribute1**  \n",
        "   - Semua baris pertama menampilkan nilai ~0.3438, mengindikasikan bahwa hampir semua sampel bernilai 1  \n",
        "     → `(1 – mean(≈0.89)) / std(≈0.31) ≈ 0.3438`.  \n",
        "   - Ini konfirmasi bahwa transformasi benar, dan kita tahu flag biner ini masih informatif.  \n",
        "3. **Attribute2**  \n",
        "   - Nilai tetap 0 untuk semua baris karena varian aslinya = 0  \n",
        "     → kolom konstan ini **tidak berubah** dengan scaler  \n",
        "     → sebaiknya di‐drop sebelum modelling.  \n",
        "4. **Attribute3–Attribute5**  \n",
        "   - Nilai seperti 0.7094, –0.2342, dan 0.4811 menunjukkan seberapa jauh masing‐masing observasi dari mean dalam satuan standar deviasi.  \n",
        "   - Contoh: baris ke-0 `Attribute3 = 0.7094` artinya nilai asli ~0.64 berada +1.32σ di atas mean.  \n",
        "\n",
        "---"
      ]
    },
    {
      "cell_type": "code",
      "execution_count": null,
      "metadata": {
        "colab": {
          "base_uri": "https://localhost:8080/"
        },
        "id": "tXTxoWDDcnsk",
        "outputId": "bd6341d2-5316-4092-e7f8-ffc86ccf9d18"
      },
      "outputs": [
        {
          "name": "stdout",
          "output_type": "stream",
          "text": [
            "Shape X_train: (280, 34) X_test: (70, 34)\n",
            "Proporsi kelas di train: 0.64 di test: 0.64\n"
          ]
        }
      ],
      "source": [
        "from sklearn.model_selection import train_test_split\n",
        "\n",
        "X = df[feature_cols]\n",
        "y = df['ClassNum']\n",
        "\n",
        "X_train, X_test, y_train, y_test = train_test_split(\n",
        "    X, y,\n",
        "    test_size=0.2,\n",
        "    random_state=42,\n",
        "    stratify=y\n",
        ")\n",
        "\n",
        "print(\"Shape X_train:\", X_train.shape, \"X_test:\", X_test.shape)\n",
        "print(\"Proporsi kelas di train:\", y_train.mean().round(2),\n",
        "      \"di test:\", y_test.mean().round(2))"
      ]
    },
    {
      "cell_type": "markdown",
      "metadata": {
        "id": "-7w5KNyIutjE"
      },
      "source": [
        "## **Insights:**\n",
        "\n",
        "Pada langkah ini, saya memecah dataset yang sudah diproses menjadi set **training** dan **testing** dengan perbandingan 80 % : 20 %. Outputnya:\n",
        "\n",
        "- Shape X_train: **(280, 34)**  \n",
        "- Shape X_test:  **(70, 34)**  \n",
        "- Proporsi kelas “good” (1) di train: **0.64**  \n",
        "- Proporsi kelas “good” (1) di test:  **0.64**  \n",
        "\n",
        "### Penjelasan dan Manfaat\n",
        "\n",
        "1. **Ukuran Set**  \n",
        "   • 280 sampel untuk training cukup untuk mengestimasi parameter model.  \n",
        "   • 70 sampel untuk testing memberikan ukuran yang wajar untuk mengevaluasi performa tanpa membuang terlalu banyak data.\n",
        "\n",
        "2. **Stratifikasi**  \n",
        "   • `stratify=y` menjamin distribusi kelas (“good” vs “bad”) di train dan test tetap sama (~64 % vs 36 %).  \n",
        "   • Menghindari bias di set testing, model dievaluasi pada proporsi kelas yang sama seperti saat training.\n",
        "\n",
        "3. **Reproducibility**  \n",
        "   • `random_state=42` memastikan split yang sama setiap kali notebook dijalankan, memudahkan debugging dan reproduksi hasil.\n",
        "\n",
        "---"
      ]
    }
  ],
  "metadata": {
    "colab": {
      "provenance": []
    },
    "kernelspec": {
      "display_name": "Python 3",
      "name": "python3"
    },
    "language_info": {
      "codemirror_mode": {
        "name": "ipython",
        "version": 3
      },
      "file_extension": ".py",
      "mimetype": "text/x-python",
      "name": "python",
      "nbconvert_exporter": "python",
      "pygments_lexer": "ipython3",
      "version": "3.13.1"
    }
  },
  "nbformat": 4,
  "nbformat_minor": 0
}
